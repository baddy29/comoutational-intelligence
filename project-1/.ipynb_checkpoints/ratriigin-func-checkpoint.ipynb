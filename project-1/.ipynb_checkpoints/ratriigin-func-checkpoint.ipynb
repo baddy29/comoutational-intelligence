{
 "cells": [
  {
   "cell_type": "code",
   "execution_count": 2,
   "id": "5b2fb182",
   "metadata": {},
   "outputs": [],
   "source": [
    "%matplotlib inline\n",
    "\n",
    "from IPython import display\n",
    "import pylab as pl\n",
    "from matplotlib.patches import Ellipse\n",
    "from sklearn import datasets\n",
    "import numpy as np\n",
    "import matplotlib.pyplot\n",
    "import matplotlib.pyplot as plt\n",
    "import time\n",
    "from sklearn import datasets\n",
    "import random\n",
    "import math\n",
    "import pandas as pd\n",
    "import random\n",
    "import matplotlib.pyplot\n",
    "import matplotlib.pyplot as plt\n",
    "from tqdm import tqdm"
   ]
  },
  {
   "cell_type": "code",
   "execution_count": 21,
   "id": "1da3da20",
   "metadata": {},
   "outputs": [],
   "source": [
    "from sklearn.datasets import load_wine\n",
    "from sklearn.model_selection import train_test_split\n",
    "from sklearn.linear_model import LogisticRegression\n",
    "from sklearn.metrics import accuracy_score\n",
    "\n",
    "wine=load_wine()\n",
    "df = pd.DataFrame(wine['data'],columns=wine['feature_names'])\n",
    "label=wine[\"target\"]"
   ]
  },
  {
   "cell_type": "code",
   "execution_count": 51,
   "id": "9214c571",
   "metadata": {},
   "outputs": [
    {
     "name": "stdout",
     "output_type": "stream",
     "text": [
      "0.9629629629629629\n"
     ]
    }
   ],
   "source": [
    "from warnings import filterwarnings\n",
    "filterwarnings('ignore')\n",
    "from sklearn import metrics\n",
    "\n",
    "X_train,X_test,y_train,y_test=train_test_split(df,label,test_size=0.3,random_state=50)\n",
    "model=LogisticRegression()\n",
    "model.fit(X_train,y_train)\n",
    "predicted=model.predict(X_test)\n",
    "score=metrics.accuracy_score(y_test,predicted)\n",
    "print(score)"
   ]
  },
  {
   "cell_type": "code",
   "execution_count": 27,
   "id": "813d32e6",
   "metadata": {},
   "outputs": [],
   "source": [
    "def initialize(n_feat,sz):\n",
    "    population=[]\n",
    "    n_feat=10\n",
    "    sz=100\n",
    "    for i in range(sz):\n",
    "        chromosome=np.ones(n_feat,dtype=bool)\n",
    "        chromosome[:int(0.3*n_feat)]=False\n",
    "        np.random.shuffle(chromosome)\n",
    "        population.append(chromosome)\n",
    "    return population"
   ]
  },
  {
   "cell_type": "code",
   "execution_count": 48,
   "id": "d14d7dae",
   "metadata": {},
   "outputs": [],
   "source": [
    "def rastrigin_fitness_fun(population,n_feat):\n",
    "    A=10\n",
    "    scores=[]\n",
    "    for chromosome in population:\n",
    "        score=np.sum(chromosome^2-A*np.cos(2*np.pi.chromosome))\n",
    "        score+=A*n_feat\n",
    "        scores.append(score)\n",
    "    return scores,population  "
   ]
  },
  {
   "cell_type": "code",
   "execution_count": 5,
   "id": "370b8632",
   "metadata": {},
   "outputs": [],
   "source": [
    "def select(scores,best_fit):\n",
    "    selected_indiviuals=[]\n",
    "    total_fitness=sum(scores)\n",
    "    selection_prob=[fitness/total_fitness for fitness in scores]\n",
    "    r=random.uniform(0,1/len(best_fit))\n",
    "    prob_sum=0.0\n",
    "    for i,x in enumerate(best_fit):\n",
    "        prob_sum+=selection_prob[i]\n",
    "        while r<prob_sum:\n",
    "            r+=1/len(best_fit)\n",
    "            selected_indiviuals.append(best_fit[i])   \n",
    "    return np.unique(selected_indiviuals)\n",
    "    \n",
    "    "
   ]
  },
  {
   "cell_type": "code",
   "execution_count": 17,
   "id": "9dbd3dd6",
   "metadata": {},
   "outputs": [
    {
     "ename": "SyntaxError",
     "evalue": "expected ':' (2574204987.py, line 2)",
     "output_type": "error",
     "traceback": [
      "\u001b[1;36m  Cell \u001b[1;32mIn[17], line 2\u001b[1;36m\u001b[0m\n\u001b[1;33m    X_test, y_train, y_test)\u001b[0m\n\u001b[1;37m                            ^\u001b[0m\n\u001b[1;31mSyntaxError\u001b[0m\u001b[1;31m:\u001b[0m expected ':'\n"
     ]
    }
   ],
   "source": [
    "def generations(sz,n_feat,mutation_rate,n_gen,X_train,\n",
    "                                   X_test, y_train, y_test)\n",
    "chromosomes=initialize(n_feat,sz)\n",
    "for(range in n_feat)\n",
    "    scores,best_fit=rastrigin_fitness_fun(chromosomes)\n",
    "    best_chromo=scores[0]\n",
    "    best_score=best_fit[0]\n",
    "    pop_selc=select(scores,best_fit)\n",
    "    pop_cross_res=crossover(parents,sz)\n",
    "    next_gen_pop=mutation(pop_cross_res,sz,mutation_rate)\n",
    "return best_chromo,best_score"
   ]
  },
  {
   "cell_type": "code",
   "execution_count": 6,
   "id": "9ac919c3",
   "metadata": {},
   "outputs": [
    {
     "name": "stdout",
     "output_type": "stream",
     "text": [
      "Selection Probabilities: 7\n"
     ]
    }
   ],
   "source": [
    "if __name__ == \"__main__\":\n",
    "    scores = [0.9, 0.8, 0.7,0.98,0.87,0.55,0.01,0.2,0.5]\n",
    "    best_fit=[1,2,3,9,10,8,4,20,12]\n",
    "    \n",
    "    selection_probabilities = select(scores,best_fit)\n",
    "    \n",
    "    print(\"Selection Probabilities:\", len(selection_probabilities))"
   ]
  },
  {
   "cell_type": "code",
   "execution_count": null,
   "id": "3a34dae2",
   "metadata": {},
   "outputs": [],
   "source": []
  },
  {
   "cell_type": "code",
   "execution_count": null,
   "id": "8e4d7c82",
   "metadata": {},
   "outputs": [],
   "source": []
  },
  {
   "cell_type": "code",
   "execution_count": null,
   "id": "6c46fc68",
   "metadata": {},
   "outputs": [],
   "source": []
  }
 ],
 "metadata": {
  "kernelspec": {
   "display_name": "Python 3 (ipykernel)",
   "language": "python",
   "name": "python3"
  },
  "language_info": {
   "codemirror_mode": {
    "name": "ipython",
    "version": 3
   },
   "file_extension": ".py",
   "mimetype": "text/x-python",
   "name": "python",
   "nbconvert_exporter": "python",
   "pygments_lexer": "ipython3",
   "version": "3.11.4"
  }
 },
 "nbformat": 4,
 "nbformat_minor": 5
}
