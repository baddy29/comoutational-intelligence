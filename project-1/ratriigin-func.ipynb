{
 "cells": [
  {
   "cell_type": "code",
   "execution_count": 48,
   "id": "5b2fb182",
   "metadata": {},
   "outputs": [],
   "source": [
    "%matplotlib inline\n",
    "\n",
    "from IPython import display\n",
    "import pylab as pl\n",
    "from matplotlib.patches import Ellipse\n",
    "from sklearn import datasets\n",
    "import numpy as np\n",
    "import matplotlib.pyplot\n",
    "import matplotlib.pyplot as plt\n",
    "import time\n",
    "from sklearn import datasets\n",
    "import random\n",
    "import math\n",
    "import pandas as pd\n",
    "import random\n",
    "import matplotlib.pyplot\n",
    "import matplotlib.pyplot as plt\n",
    "from tqdm import tqdm\n",
    "import gc as gc"
   ]
  },
  {
   "cell_type": "code",
   "execution_count": 49,
   "id": "1da3da20",
   "metadata": {},
   "outputs": [],
   "source": [
    "from sklearn.datasets import load_wine\n",
    "from sklearn.model_selection import train_test_split\n",
    "from sklearn.linear_model import LogisticRegression\n",
    "from sklearn.metrics import accuracy_score\n",
    "\n",
    "wine=load_wine()\n",
    "df = pd.DataFrame(wine['data'],columns=wine['feature_names'])\n",
    "label=wine[\"target\"]"
   ]
  },
  {
   "cell_type": "code",
   "execution_count": 50,
   "id": "9214c571",
   "metadata": {},
   "outputs": [
    {
     "name": "stdout",
     "output_type": "stream",
     "text": [
      "0.9629629629629629\n"
     ]
    }
   ],
   "source": [
    "from warnings import filterwarnings\n",
    "filterwarnings('ignore')\n",
    "from sklearn import metrics\n",
    "\n",
    "X_train,X_test,y_train,y_test=train_test_split(df,label,test_size=0.3,random_state=50)\n",
    "model=LogisticRegression()\n",
    "model.fit(X_train,y_train)\n",
    "predicted=model.predict(X_test)\n",
    "score=metrics.accuracy_score(y_test,predicted)\n",
    "print(score)"
   ]
  },
  {
   "cell_type": "code",
   "execution_count": 51,
   "id": "3146423c",
   "metadata": {},
   "outputs": [],
   "source": [
    "def initialize(n_feat,sz):\n",
    "    population=[]\n",
    "    n_feat=10\n",
    "    sz=100\n",
    "    for i in range(sz):\n",
    "        chromosome=np.ones(n_feat,dtype=int)\n",
    "        chromosome[:int(0.3*n_feat)]=0\n",
    "        np.random.shuffle(chromosome)\n",
    "        population.append(chromosome)\n",
    "    return population"
   ]
  },
  {
   "cell_type": "code",
   "execution_count": 52,
   "id": "a06e9fa7",
   "metadata": {},
   "outputs": [],
   "source": [
    "def rastrigin_fitness_fun(population,n_feat):\n",
    "    A=10\n",
    "    scores=[]\n",
    "    i=0\n",
    "    for chromosome in range(len(population)):\n",
    "        score=np.sum(population[chromosome]**2-A*np.cos(2*np.pi*population[chromosome]))\n",
    "        score+=A*n_feat\n",
    "        scores.append(score)\n",
    "    return scores,population  "
   ]
  },
  {
   "cell_type": "code",
   "execution_count": 53,
   "id": "eda86949",
   "metadata": {},
   "outputs": [],
   "source": [
    "def select(scores,best_fit):\n",
    "    selected_indiviuals_set=set()\n",
    "    total_fitness=sum(scores)\n",
    "    selection_prob=[fitness/total_fitness for fitness in scores]\n",
    "    r=random.uniform(0,1/len(best_fit))\n",
    "    prob_sum=0.0\n",
    "    for i,x in enumerate(best_fit):\n",
    "        prob_sum+=selection_prob[i]\n",
    "        while r<prob_sum:\n",
    "            r+=1/len(best_fit)\n",
    "            selected_indiviuals_set.add(tuple(best_fit[i]))\n",
    "    selected_indiviuals_list=[np.array(selected_inividual) for selected_inividual in selected_indiviuals_set]\n",
    "    return selected_indiviuals_list\n",
    "    \n",
    "    "
   ]
  },
  {
   "cell_type": "code",
   "execution_count": 54,
   "id": "21163116",
   "metadata": {},
   "outputs": [],
   "source": [
    "def getMask(n_feat):\n",
    "    mask=[0]*n_feat\n",
    "    for k in range(n_feat):\n",
    "        if(random.uniform(0,1)<=0.5):\n",
    "            mask[k]=1\n",
    "    return mask\n",
    "    "
   ]
  },
  {
   "cell_type": "code",
   "execution_count": 55,
   "id": "2dda690b",
   "metadata": {},
   "outputs": [],
   "source": [
    "def crossover(pop_selc,n_feat):\n",
    "    mask=getMask(n_feat)\n",
    "    pop_next_gen=[]\n",
    "    sz=len(pop_selc)\n",
    "    for i in range(sz):\n",
    "        j=random.randint(0,sz-1)\n",
    "        check_j=i+1\n",
    "        if j==i and  check_j<sz:\n",
    "            j=check_j\n",
    "        else:\n",
    "            j=i-1\n",
    "        p1=pop_selc[i].copy()\n",
    "        p2=pop_selc[j].copy()\n",
    "        c1,c2=p1.copy(),p2.copy()\n",
    "        for k in range(len(mask)):\n",
    "            if mask[k] == 1:\n",
    "                temp=c1[k]\n",
    "                c1[k]=c2[k]\n",
    "                c2[k]=temp\n",
    "                pop_next_gen.append(c1)\n",
    "                pop_next_gen.append(c2)\n",
    "    return pop_next_gen"
   ]
  },
  {
   "cell_type": "code",
   "execution_count": 56,
   "id": "6edd7624",
   "metadata": {},
   "outputs": [],
   "source": [
    "def mutation(pop_next_gen,n_feat,mutation_rate,std_dev):\n",
    "    mutated_pop=[]\n",
    "    for i in range(len(pop_next_gen)):\n",
    "        chromosome=pop_next_gen[i].copy()\n",
    "        for j in range(n_feat):\n",
    "            if(random.random()<mutation_rate):\n",
    "                mutate=np.random.normal(loc=0,scale=std_dev)\n",
    "                chromosome[j]+=mutate\n",
    "        mutated_pop.append(chromosome)\n",
    "    return mutated_pop\n",
    "    "
   ]
  },
  {
   "cell_type": "code",
   "execution_count": 67,
   "id": "16c68030",
   "metadata": {},
   "outputs": [],
   "source": [
    "def generations(sz,n_feat,mutation_rate,n_gens):\n",
    "    chromosomes_pop=initialize(n_feat,sz)\n",
    "    stats_min = np.zeros(n_gens)\n",
    "    stats_avg = np.zeros(n_gens)\n",
    "    stats_max = np.zeros(n_gens)\n",
    "    for i in range(n_gens):\n",
    "        scores,best_fit=rastrigin_fitness_fun(chromosomes_pop,n_feat)\n",
    "        best_chromo=scores[0]\n",
    "        #print(\"!===========!\",best_chromo)\n",
    "        best_score=best_fit[0]\n",
    "        #print(\"!===========!\",best_score)\n",
    "        stats_min[i]=np.min(scores)\n",
    "        #print(\"!===========!\",stats_min)\n",
    "        stats_max[i]=np.amax(scores)\n",
    "        #print(\"!===========!\",stats_max)\n",
    "        stats_avg[i]=np.mean(scores)\n",
    "        #print(\"!===========!\",stats_avg)\n",
    "        pop_selc=select(scores,best_fit)\n",
    "        pop_cross_res=crossover(pop_selc,n_feat)\n",
    "        chromosomes_pop=mutation(pop_cross_res,n_feat,mutation_rate,0.3)\n",
    "    return best_chromo,best_score,stats_min,stats_max,stats_avg"
   ]
  },
  {
   "cell_type": "code",
   "execution_count": 106,
   "id": "6ec857d8",
   "metadata": {},
   "outputs": [
    {
     "ename": "KeyboardInterrupt",
     "evalue": "",
     "output_type": "error",
     "traceback": [
      "\u001b[1;31m---------------------------------------------------------------------------\u001b[0m",
      "\u001b[1;31mKeyboardInterrupt\u001b[0m                         Traceback (most recent call last)",
      "Cell \u001b[1;32mIn[106], line 2\u001b[0m\n\u001b[0;32m      1\u001b[0m \u001b[38;5;28;01mif\u001b[39;00m \u001b[38;5;18m__name__\u001b[39m \u001b[38;5;241m==\u001b[39m \u001b[38;5;124m\"\u001b[39m\u001b[38;5;124m__main__\u001b[39m\u001b[38;5;124m\"\u001b[39m:\n\u001b[1;32m----> 2\u001b[0m     best_chromo,best_score,stats_min,stats_max,stats_avg\u001b[38;5;241m=\u001b[39mgenerations(\u001b[38;5;241m30\u001b[39m,\u001b[38;5;241m10\u001b[39m,\u001b[38;5;241m0.01\u001b[39m,\u001b[38;5;241m58\u001b[39m)\n\u001b[0;32m      3\u001b[0m     \u001b[38;5;66;03m# plot the statistics\u001b[39;00m\n\u001b[0;32m      4\u001b[0m     plt\u001b[38;5;241m.\u001b[39mplot(stats_min,\u001b[38;5;124m'\u001b[39m\u001b[38;5;124mr\u001b[39m\u001b[38;5;124m'\u001b[39m)\n",
      "Cell \u001b[1;32mIn[67], line 21\u001b[0m, in \u001b[0;36mgenerations\u001b[1;34m(sz, n_feat, mutation_rate, n_gens)\u001b[0m\n\u001b[0;32m     19\u001b[0m     pop_cross_res\u001b[38;5;241m=\u001b[39mcrossover(pop_selc,n_feat)\n\u001b[0;32m     20\u001b[0m     chromosomes_pop\u001b[38;5;241m=\u001b[39mmutation(pop_cross_res,n_feat,mutation_rate,\u001b[38;5;241m0.3\u001b[39m)\n\u001b[1;32m---> 21\u001b[0m     gc\u001b[38;5;241m.\u001b[39mcollect()\n\u001b[0;32m     22\u001b[0m \u001b[38;5;28;01mreturn\u001b[39;00m best_chromo,best_score,stats_min,stats_max,stats_avg\n",
      "\u001b[1;31mKeyboardInterrupt\u001b[0m: "
     ]
    }
   ],
   "source": [
    "if __name__ == \"__main__\":\n",
    "    best_chromo,best_score,stats_min,stats_max,stats_avg=generations(30,10,0.01,58)\n",
    "    # plot the statistics\n",
    "    plt.plot(stats_min,'r')\n",
    "    plt.plot(stats_avg,'b')\n",
    "    plt.plot(stats_max,'g')\n",
    "    plt.ylabel('accuracy')\n",
    "    plt.xlabel('generations')\n",
    "    plt.show()\n",
    "    gc.collect()"
   ]
  },
  {
   "cell_type": "code",
   "execution_count": null,
   "id": "6e2d8de8",
   "metadata": {},
   "outputs": [],
   "source": []
  },
  {
   "cell_type": "code",
   "execution_count": null,
   "id": "ca4f0d37",
   "metadata": {},
   "outputs": [],
   "source": []
  }
 ],
 "metadata": {
  "kernelspec": {
   "display_name": "Python 3 (ipykernel)",
   "language": "python",
   "name": "python3"
  },
  "language_info": {
   "codemirror_mode": {
    "name": "ipython",
    "version": 3
   },
   "file_extension": ".py",
   "mimetype": "text/x-python",
   "name": "python",
   "nbconvert_exporter": "python",
   "pygments_lexer": "ipython3",
   "version": "3.11.4"
  }
 },
 "nbformat": 4,
 "nbformat_minor": 5
}
